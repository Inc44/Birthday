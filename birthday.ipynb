{
	"cells": [
	{
		"cell_type": "code",
		"execution_count": null,
		"metadata":
		{
			"executionInfo":
			{
				"elapsed": 6,
				"status": "ok",
				"timestamp": 1709571155008,
				"user":
				{
					"displayName": "Dimitri Fichaux",
					"userId": "15499130748517113216"
				},
				"user_tz": -60
			},
			"id": "x1ICJtAezJat"
		},
		"outputs": [],
		"source": ["cuda_code='''\n", "// nvcc -o birthday birthday.cu -O3 -arch=sm_75 && ./birthday for GTX 1660 SUPER\n", "// nvcc -o birthday birthday.cu -O3 -arch=sm_89 && ./birthday for RTX 4060 TI\n", "#define BLOCK_SIZE 32\n", "#define DAYS_IN_YEAR 365\n", "#define NUM_BLOCKS (NUM_THREADS / BLOCK_SIZE)\n", "#define NUM_THREADS 768\t // for GTX 1660 SUPER\n", "// #define NUM_THREADS 2176 for RTX 4060 TI\n", "#define PEOPLE 24\n", "#define TOTAL_SIMULATIONS 1000000\n", "#define MULTIPLIER 1664525\n", "#define INCREMENT 1013904223\n", "#include <cuda_runtime.h>\n", "#include <stdio.h>\n", "#include <stdlib.h>\n", "#include <time.h>\n", "__global__ void simulate(int simulations,\n", "\t\t\t\t\t\t int* d_successCount,\n", "\t\t\t\t\t\t unsigned int seed) {\n", "\tint tid = blockIdx.x * blockDim.x + threadIdx.x;\n", "\tint simulationsPerThread = simulations / NUM_THREADS;\n", "\tint successCount = 0;\n", "\tunsigned int state = seed ^ tid;\n", "\tfor (int sim = 0; sim < simulationsPerThread; sim++) {\n", "\t\tint birthdays[DAYS_IN_YEAR] = {0};\n", "\t\tfor (int i = 0; i < PEOPLE; i++) {\n", "\t\t\tstate = state * MULTIPLIER + INCREMENT;\n", "\t\t\tint birthday = state % DAYS_IN_YEAR;\n", "\t\t\tbirthdays[birthday]++;\n", "\t\t}\n", "\t\tint exactlyTwoCount = 0;\n", "\t\tfor (int i = 0; i < DAYS_IN_YEAR; i++) {\n", "\t\t\tif (birthdays[i] == 2) {\n", "\t\t\t\texactlyTwoCount++;\n", "\t\t\t}\n", "\t\t}\n", "\t\tif (exactlyTwoCount == 1) {\n", "\t\t\tsuccessCount++;\n", "\t\t}\n", "\t}\n", "\td_successCount[tid] = successCount;\n", "}\n", "int main() {\n", "\tstruct timespec start, end;\n", "\tclock_gettime(CLOCK_MONOTONIC, &start);\n", "\tstruct timespec time;\n", "\tclock_gettime(CLOCK_MONOTONIC, &time);\n", "\tunsigned long long seed = time.tv_sec * 1e9 + time.tv_nsec;\n", "\tint totalSimulations = TOTAL_SIMULATIONS;\n", "\tint *d_successCount, *h_successCount;\n", "\tcudaMalloc((void**)&d_successCount, NUM_THREADS * sizeof(int));\n", "\th_successCount = (int*)malloc(NUM_THREADS * sizeof(int));\n", "\tsimulate<<<NUM_BLOCKS, BLOCK_SIZE>>>(totalSimulations, d_successCount,\n", "\t\t\t\t\t\t\t\t\t\t seed);\n", "\tcudaMemcpy(h_successCount, d_successCount, NUM_THREADS * sizeof(int),\n", "\t\t\t   cudaMemcpyDeviceToHost);\n", "\tint totalSuccessCount = 0;\n", "\tfor (int t = 0; t < NUM_THREADS; t++) {\n", "\t\ttotalSuccessCount += h_successCount[t];\n", "\t}\n", "\tdouble probability = (double)totalSuccessCount / totalSimulations;\n", "\tprintf(\"Probability: %.9f\\\\n\", probability);\n", "\tclock_gettime(CLOCK_MONOTONIC, &end);\n", "\tdouble elapsed =\n", "\t\t(end.tv_sec - start.tv_sec) + 1e-9 * (end.tv_nsec - start.tv_nsec);\n", "\tprintf(\"Execution Time: %.3f s\\\\n\", elapsed);\n", "\treturn 0;\n", "}\n", "'''"]
	},
	{
		"cell_type": "code",
		"execution_count": null,
		"metadata":
		{
			"executionInfo":
			{
				"elapsed": 5,
				"status": "ok",
				"timestamp": 1709571155680,
				"user":
				{
					"displayName": "Dimitri Fichaux",
					"userId": "15499130748517113216"
				},
				"user_tz": -60
			},
			"id": "Cs0YKLOZzrwL"
		},
		"outputs": [],
		"source": ["with open('birthday.cu', 'w', encoding='UTF-8') as f:\n", "\tf.write(cuda_code)"]
	},
	{
		"cell_type": "code",
		"execution_count": null,
		"metadata":
		{
			"executionInfo":
			{
				"elapsed": 3061,
				"status": "ok",
				"timestamp": 1709571159833,
				"user":
				{
					"displayName": "Dimitri Fichaux",
					"userId": "15499130748517113216"
				},
				"user_tz": -60
			},
			"id": "Dubv4Rt-zwNR"
		},
		"outputs": [],
		"source": ["!nvcc -o birthday birthday.cu -O3 -arch=sm_75"]
	},
	{
		"cell_type": "code",
		"execution_count": null,
		"metadata":
		{
			"colab":
			{
				"base_uri": "https://localhost:8080/"
			},
			"executionInfo":
			{
				"elapsed": 11172,
				"status": "ok",
				"timestamp": 1709571172254,
				"user":
				{
					"displayName": "Dimitri Fichaux",
					"userId": "15499130748517113216"
				},
				"user_tz": -60
			},
			"id": "QYBTTZIXzyVU",
			"outputId": "6645a105-4c5b-4ba0-ee2f-1f4f24f7298a"
		},
		"outputs": [],
		"source": ["!./birthday"]
	}],
	"metadata":
	{
		"accelerator": "GPU",
		"colab":
		{
			"authorship_tag": "ABX9TyOkSxgF5+YOyF/ICNAMOxe0",
			"gpuType": "T4",
			"provenance": []
		},
		"kernelspec":
		{
			"display_name": "Python 3",
			"name": "python3"
		},
		"language_info":
		{
			"name": "python",
			"version": "3.10.12"
		}
	},
	"nbformat": 4,
	"nbformat_minor": 0
}