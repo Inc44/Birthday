{
	"cells": [
	{
		"cell_type": "code",
		"execution_count": null,
		"metadata":
		{
			"executionInfo":
			{
				"elapsed": 6,
				"status": "ok",
				"timestamp": 1709571155008,
				"user":
				{
					"displayName": "Dimitri Fichaux",
					"userId": "15499130748517113216"
				},
				"user_tz": -60
			},
			"id": "x1ICJtAezJat"
		},
		"outputs": [],
		"source": ["cuda_code=r'''\n", "// nvcc -o birthday birthday.cu -O3 -arch=sm_75 && ./birthday for GTX 1660 SUPER\n", "// nvcc -o birthday birthday.cu -O3 -arch=sm_89 && ./birthday for RTX 4060 TI\n", "#define BLOCK_SIZE 32\n", "#define DAYS_IN_YEAR 365\n", "#define NUM_BLOCKS (NUM_THREADS / BLOCK_SIZE)\n", "#define NUM_THREADS 768\t // for GTX 1660 SUPER\n", "// #define NUM_THREADS 2176 for RTX 4060 TI\n", "#define PEOPLE 24\n", "#define TOTAL_SIMULATIONS 1000000\n", "#define MULTIPLIER 1664525\n", "#define INCREMENT 1013904223\n", "#include <cuda_runtime.h>\n", "#include <stdio.h>\n", "#include <stdlib.h>\n", "#include <time.h>\n", "#include <stdint.h>\n", "__global__ void simulate(uint32_t simulations,\n", "\t\t\t\t\t\t uint32_t* deviceSuccessCount,\n", "\t\t\t\t\t\t uint64_t seed) {\n", "\tuint16_t threadId = blockIdx.x * blockDim.x + threadIdx.x;\n", "\tuint32_t simulationsPerThread = simulations / NUM_THREADS;\n", "\tuint32_t localSuccessCount = 0;\n", "\tuint32_t state = seed ^ threadId;\n", "\tfor (uint32_t sim = 0; sim < simulationsPerThread; sim++) {\n", "\t\tuint8_t birthdays[DAYS_IN_YEAR] = {0};\n", "\t\tfor (uint8_t i = 0; i < PEOPLE; i++) {\n", "\t\t\tstate = state * MULTIPLIER + INCREMENT;\n", "\t\t\tuint16_t birthday = state % DAYS_IN_YEAR;\n", "\t\t\tbirthdays[birthday]++;\n", "\t\t}\n", "\t\tuint8_t exactlyTwoCount = 0;\n", "\t\tfor (uint16_t i = 0; i < DAYS_IN_YEAR; i++) {\n", "\t\t\tif (birthdays[i] == 2) {\n", "\t\t\t\texactlyTwoCount++;\n", "\t\t\t}\n", "\t\t}\n", "\t\tif (exactlyTwoCount == 1) {\n", "\t\t\tlocalSuccessCount++;\n", "\t\t}\n", "\t}\n", "\tdeviceSuccessCount[threadId] = localSuccessCount;\n", "}\n", "int main() {\n", "\tstruct timespec start_time, end_time;\n", "\tclock_gettime(CLOCK_MONOTONIC, &start_time);\n", "\tstruct timespec time;\n", "\tclock_gettime(CLOCK_MONOTONIC, &time);\n", "\tuint64_t seed = time.tv_sec * 1e9 + time.tv_nsec;\n", "\tuint32_t *deviceSuccessCount, *hostSuccessCount;\n", "\tcudaMalloc((void**)&deviceSuccessCount, NUM_THREADS * sizeof(uint32_t));\n", "\thostSuccessCount = (uint32_t*)malloc(NUM_THREADS * sizeof(uint32_t));\n", "\tsimulate<<<NUM_BLOCKS, BLOCK_SIZE>>>(TOTAL_SIMULATIONS, deviceSuccessCount,\n", "\t\t\t\t\t\t\t\t\t\t seed);\n", "\tcudaMemcpy(hostSuccessCount, deviceSuccessCount, NUM_THREADS * sizeof(uint32_t),\n", "\t\t\t   cudaMemcpyDeviceToHost);\n", "\tuint32_t totalSuccessCount = 0;\n", "\tfor (uint16_t t = 0; t < NUM_THREADS; t++) {\n", "\t\ttotalSuccessCount += hostSuccessCount[t];\n", "\t}\n", "\tdouble probability = (double)totalSuccessCount / TOTAL_SIMULATIONS;\n", "\tprintf(\"Probability: %.9f\\n\", probability);\n", "\tclock_gettime(CLOCK_MONOTONIC, &end_time);\n", "\tdouble elapsed_time =\n", "\t\t(end_time.tv_sec - start_time.tv_sec) + 1e-9 * (end_time.tv_nsec - start_time.tv_nsec);\n", "\tprintf(\"Execution Time: %.3f s\\n\", elapsed_time);\n", "\treturn 0;\n", "}\n", "'''"]
	},
	{
		"cell_type": "code",
		"execution_count": null,
		"metadata":
		{
			"executionInfo":
			{
				"elapsed": 5,
				"status": "ok",
				"timestamp": 1709571155680,
				"user":
				{
					"displayName": "Dimitri Fichaux",
					"userId": "15499130748517113216"
				},
				"user_tz": -60
			},
			"id": "Cs0YKLOZzrwL"
		},
		"outputs": [],
		"source": ["with open('birthday.cu', 'w', encoding='UTF-8') as f:\n", "\tf.write(cuda_code)"]
	},
	{
		"cell_type": "code",
		"execution_count": null,
		"metadata":
		{
			"executionInfo":
			{
				"elapsed": 3061,
				"status": "ok",
				"timestamp": 1709571159833,
				"user":
				{
					"displayName": "Dimitri Fichaux",
					"userId": "15499130748517113216"
				},
				"user_tz": -60
			},
			"id": "Dubv4Rt-zwNR"
		},
		"outputs": [],
		"source": ["!nvcc -o birthday birthday.cu -O3 -arch=sm_75"]
	},
	{
		"cell_type": "code",
		"execution_count": null,
		"metadata":
		{
			"colab":
			{
				"base_uri": "https://localhost:8080/"
			},
			"executionInfo":
			{
				"elapsed": 11172,
				"status": "ok",
				"timestamp": 1709571172254,
				"user":
				{
					"displayName": "Dimitri Fichaux",
					"userId": "15499130748517113216"
				},
				"user_tz": -60
			},
			"id": "QYBTTZIXzyVU",
			"outputId": "6645a105-4c5b-4ba0-ee2f-1f4f24f7298a"
		},
		"outputs": [],
		"source": ["!./birthday"]
	}],
	"metadata":
	{
		"accelerator": "GPU",
		"colab":
		{
			"authorship_tag": "ABX9TyOkSxgF5+YOyF/ICNAMOxe0",
			"gpuType": "T4",
			"provenance": []
		},
		"kernelspec":
		{
			"display_name": "Python 3",
			"name": "python3"
		},
		"language_info":
		{
			"name": "python",
			"version": "3.10.12"
		}
	},
	"nbformat": 4,
	"nbformat_minor": 0
}